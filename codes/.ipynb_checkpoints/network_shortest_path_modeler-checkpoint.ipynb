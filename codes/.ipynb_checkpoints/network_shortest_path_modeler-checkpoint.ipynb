{
 "cells": [
  {
   "cell_type": "code",
   "execution_count": 3,
   "metadata": {},
   "outputs": [],
   "source": [
    "import pandas , requests, json, time\n",
    "import multiprocessing, os\n",
    "import warnings\n",
    "warnings.filterwarnings('ignore')"
   ]
  },
  {
   "cell_type": "code",
   "execution_count": 8,
   "metadata": {},
   "outputs": [],
   "source": [
    "import numpy"
   ]
  },
  {
   "cell_type": "code",
   "execution_count": 4,
   "metadata": {},
   "outputs": [],
   "source": [
    "import re"
   ]
  },
  {
   "cell_type": "code",
   "execution_count": 5,
   "metadata": {},
   "outputs": [],
   "source": [
    "import glob"
   ]
  },
  {
   "cell_type": "code",
   "execution_count": 74,
   "metadata": {},
   "outputs": [],
   "source": [
    "\n",
    "def routing_network(lat_o, lon_o, lat_d, lon_d):\n",
    "    headers = { \"content-type\": \"application/json\" }\n",
    "    start=[lon_o, lat_o]\n",
    "    end=[lon_d, lat_d]\n",
    "    priorityJson = {'road_class': {'motorway': 0.00, '*': 1}}\n",
    "\n",
    "    \n",
    "    \n",
    "    route_url = 'http://localhost:8989/route-custom?'\n",
    "    route = requests.post(url=route_url,headers=headers, json={'profile':'bikef', 'points':[start,end], 'points_encoded':False, 'elevation':False, 'priority': priorityJson,\n",
    "                                                               'max_speed_fallback': 0.01}).json()\n",
    "    try:\n",
    "        print(route)\n",
    "        coordinates = route['paths'][0]['points']['coordinates']\n",
    "        distance = route['paths'][0]['distance']\n",
    "        duration = route['paths'][0]['time']\n",
    "        return (coordinates, distance, duration)\n",
    "    except:\n",
    "\n",
    "        return (route)\n",
    "    #     print(f\"http://127.0.0.1:8989/route?point={lat_o}%2C{lon_o}&point={lat_d}%2C{lon_d}&locale=en-US&elevation=false&points_encoded=false&profile=bike&use_miles=false&layer=Omniscale\")\n",
    "\n",
    "        print ([],[],[])"
   ]
  },
  {
   "cell_type": "code",
   "execution_count": 75,
   "metadata": {},
   "outputs": [
    {
     "name": "stdout",
     "output_type": "stream",
     "text": [
      "{'hints': {'visited_nodes.sum': 34, 'visited_nodes.average': 34.0}, 'info': {'copyrights': ['GraphHopper', 'OpenStreetMap contributors'], 'took': 9}, 'paths': [{'distance': 214.459, 'weight': 77220.181343, 'time': 77205169, 'transfers': 0, 'points_encoded': False, 'bbox': [-70.987937, 42.377774, -70.987247, 42.379234], 'points': {'type': 'LineString', 'coordinates': [[-70.987247, 42.377774], [-70.987306, 42.377774], [-70.987365, 42.377804], [-70.987655, 42.377854], [-70.98784, 42.37806], [-70.987802, 42.378081], [-70.9878, 42.378155], [-70.987845, 42.378188], [-70.987891, 42.378191], [-70.987848, 42.378622], [-70.987875, 42.37869], [-70.98792, 42.378733], [-70.987875, 42.378741], [-70.987837, 42.378767], [-70.98791, 42.378828], [-70.987886, 42.37892], [-70.987937, 42.379185], [-70.987899, 42.379229], [-70.987842, 42.379234]]}, 'instructions': [{'annotation_text': 'get off the bike', 'distance': 35.312, 'heading': 270.64, 'sign': 0, 'annotation_importance': 1, 'interval': [0, 3], 'text': 'Continue', 'time': 12712196, 'street_name': ''}, {'annotation_text': 'get off the bike', 'distance': 27.427, 'sign': 7, 'annotation_importance': 1, 'interval': [3, 4], 'text': 'Keep right', 'time': 9873720, 'street_name': ''}, {'annotation_text': 'get off the bike', 'distance': 12.316, 'sign': 2, 'annotation_importance': 1, 'interval': [4, 6], 'text': 'Turn right', 'time': 4433760, 'street_name': ''}, {'annotation_text': 'get off the bike', 'distance': 9.043, 'sign': -2, 'annotation_importance': 1, 'interval': [6, 8], 'text': 'Turn left', 'time': 3255480, 'street_name': ''}, {'annotation_text': 'get off the bike', 'distance': 62.111, 'sign': 2, 'annotation_importance': 1, 'interval': [8, 11], 'text': 'Turn right', 'time': 22359960, 'street_name': ''}, {'annotation_text': 'get off the bike', 'distance': 17.61, 'sign': 3, 'annotation_importance': 1, 'interval': [11, 14], 'text': 'Turn sharp right', 'time': 6339600, 'street_name': ''}, {'annotation_text': 'get off the bike', 'distance': 50.64, 'sign': 2, 'annotation_importance': 1, 'interval': [14, 18], 'text': 'Turn right', 'time': 18230453, 'street_name': ''}, {'distance': 0.0, 'sign': 4, 'last_heading': 82.24809149102967, 'interval': [18, 18], 'text': 'Arrive at destination', 'time': 0, 'street_name': ''}], 'legs': [], 'details': {}, 'ascend': 0.0, 'descend': 0.0, 'snapped_waypoints': {'type': 'LineString', 'coordinates': [[-70.987247, 42.377774], [-70.987842, 42.379234]]}}]}\n"
     ]
    }
   ],
   "source": [
    "b=routing_network(42.37777,-70.987247,42.379241,-70.987843)"
   ]
  },
  {
   "cell_type": "code",
   "execution_count": 76,
   "metadata": {},
   "outputs": [
    {
     "data": {
      "text/plain": [
       "([[-70.987247, 42.377774],\n",
       "  [-70.987306, 42.377774],\n",
       "  [-70.987365, 42.377804],\n",
       "  [-70.987655, 42.377854],\n",
       "  [-70.98784, 42.37806],\n",
       "  [-70.987802, 42.378081],\n",
       "  [-70.9878, 42.378155],\n",
       "  [-70.987845, 42.378188],\n",
       "  [-70.987891, 42.378191],\n",
       "  [-70.987848, 42.378622],\n",
       "  [-70.987875, 42.37869],\n",
       "  [-70.98792, 42.378733],\n",
       "  [-70.987875, 42.378741],\n",
       "  [-70.987837, 42.378767],\n",
       "  [-70.98791, 42.378828],\n",
       "  [-70.987886, 42.37892],\n",
       "  [-70.987937, 42.379185],\n",
       "  [-70.987899, 42.379229],\n",
       "  [-70.987842, 42.379234]],\n",
       " 214.459,\n",
       " 77205169)"
      ]
     },
     "execution_count": 76,
     "metadata": {},
     "output_type": "execute_result"
    }
   ],
   "source": [
    "b"
   ]
  },
  {
   "cell_type": "code",
   "execution_count": 82,
   "metadata": {},
   "outputs": [],
   "source": [
    "def extract_point(matched_point):\n",
    "    \n",
    "    lon, lat = re.match(r\"(.*)\\((.*)\\)\" ,matched_point).groups()[-1].split(\" \")\n",
    "    return lon, lat"
   ]
  },
  {
   "cell_type": "code",
   "execution_count": 48,
   "metadata": {},
   "outputs": [],
   "source": [
    "def routing(lat_o, lon_o, lat_d, lon_d):   ## Requests for getting route using foot\n",
    "    resj = json.loads(requests.get(\n",
    "        f\"http://127.0.0.1:8989/route_custom?point={lat_o}%2C{lon_o}&point={lat_d}%2C{lon_d}&locale=en-US&elevation=false&max_speed_fallback=0.01&points_encoded=false&profile=bikef&use_miles=false&layer=Omniscale\"\n",
    "        ).content)\n",
    "\n",
    "    try:\n",
    "        print(resj)\n",
    "        coordinates = resj['paths'][0]['points']['coordinates']\n",
    "        distance = resj['paths'][0]['distance']\n",
    "        duration = resj['paths'][0]['time']\n",
    "        return (coordinates, distance, duration)\n",
    "    except:\n",
    "        print(resj)\n",
    "\n",
    "        return ([],[],[])"
   ]
  },
  {
   "cell_type": "code",
   "execution_count": 49,
   "metadata": {},
   "outputs": [
    {
     "name": "stdout",
     "output_type": "stream",
     "text": [
      "{'code': 404, 'message': 'HTTP 404 Not Found'}\n",
      "{'code': 404, 'message': 'HTTP 404 Not Found'}\n"
     ]
    },
    {
     "data": {
      "text/plain": [
       "([], [], [])"
      ]
     },
     "execution_count": 49,
     "metadata": {},
     "output_type": "execute_result"
    }
   ],
   "source": [
    "routing(42.378369,-70.987515,42.379229,-70.987751)"
   ]
  },
  {
   "cell_type": "code",
   "execution_count": 48,
   "metadata": {},
   "outputs": [],
   "source": [
    "def route_modeler(df): \n",
    "    ## modeled route by foot profile\n",
    "    \n",
    "    df[['f_coordinates', 'f_distance', 'f_duration']] = df.apply(lambda row: pandas.Series(routing_network(row['lat_o'], row['lon_o'], row['lat_d'], row['lon_d'])), axis=1)\n",
    "    df['dist_ratio'] = df['dist_calc']/df['f_distance']\n",
    "    print(df)\n",
    "    \n",
    "    return df"
   ]
  },
  {
   "cell_type": "code",
   "execution_count": 89,
   "metadata": {},
   "outputs": [],
   "source": [
    "def processor(df, name):\n",
    "    \n",
    "    routed_df = route_modeler(df)\n",
    "    df.to_csv(f\"C:\\\\Users\\\\bitas\\\\folders\\\\Research\\\\lime\\\\peter\\\\data\\\\detour\\\\cr_321_384\\\\json_files\\\\{name}.csv\", index = False)\n",
    "    route_linesCollection = csv_tojson(routed_df)\n",
    "    json_temp = json.dumps(route_linesCollection)\n",
    "    f = open(f\"C:\\\\Users\\\\bitas\\\\folders\\\\Research\\\\lime\\\\peter\\\\data\\\\detour\\\\cr_321_384\\\\json_files\\\\{name}.json\",\"w\")\n",
    "    f.write(json_temp)\n",
    "    f.close()\n",
    "    print('done')\n",
    "\n",
    "\n",
    "def csv_tojson(df):\n",
    "    linesCollection = dict(type=\"FeatureCollection\", features=[])\n",
    "    for i in range(len(df)):\n",
    "        print(i)\n",
    "        propertDict = dict(\n",
    "            trip_id= df['trip_id'].tolist()[i],\n",
    "            dist_calc = df['dist_calc'].tolist()[i],\n",
    "            f_distance = df['f_distance'].tolist()[i],\n",
    "            dist_ratio = df['dist_ratio'].tolist()[i],\n",
    "            propulsion_type = df['propulsion_type'].tolist()[i],\n",
    "            lat_o = df['lat_o'].tolist()[i],\n",
    "            lon_o = df['lon_o'].tolist()[i],\n",
    "            lat_d = df['lat_d'].tolist()[i],\n",
    "            lon_d = df['lon_d'].tolist()[i]\n",
    " )\n",
    "        linegeo = dict(type=\"LineString\",coordinates=[])\n",
    "        for f in df['f_coordinates'].tolist()[i]:\n",
    "            # print(f)\n",
    "            linegeo['coordinates'].append(f)\n",
    "        linefeature = dict(type=\"feature\", geometry=linegeo, properties=propertDict)\n",
    "        linesCollection['features'].append(linefeature)\n",
    "    return linesCollection"
   ]
  },
  {
   "cell_type": "code",
   "execution_count": 63,
   "metadata": {},
   "outputs": [],
   "source": [
    "bikes_n = pandas.read_csv(\"C:\\\\Users\\\\bitas\\\\folders\\\\Research\\\\lime\\\\peter\\\\data\\\\detour\\\\cr_321_384\\\\err70_matchedStartEnd.csv\")"
   ]
  },
  {
   "cell_type": "code",
   "execution_count": 83,
   "metadata": {},
   "outputs": [],
   "source": [
    "bikes_n[['lon_o', 'lat_o']] = bikes_n.apply(lambda row: pandas.Series(extract_point(row['matched_start'])), axis=1)\n",
    "bikes_n[['lon_d', 'lat_d']] = bikes_n.apply(lambda row: pandas.Series(extract_point(row['matched_end'])), axis=1)"
   ]
  },
  {
   "cell_type": "code",
   "execution_count": 85,
   "metadata": {},
   "outputs": [],
   "source": [
    "bikes_trps_f_n = bikes_n[bikes_n['trip_id'].isin(faulty_trips)]"
   ]
  },
  {
   "cell_type": "code",
   "execution_count": 86,
   "metadata": {},
   "outputs": [
    {
     "data": {
      "text/html": [
       "<div>\n",
       "<style scoped>\n",
       "    .dataframe tbody tr th:only-of-type {\n",
       "        vertical-align: middle;\n",
       "    }\n",
       "\n",
       "    .dataframe tbody tr th {\n",
       "        vertical-align: top;\n",
       "    }\n",
       "\n",
       "    .dataframe thead th {\n",
       "        text-align: right;\n",
       "    }\n",
       "</style>\n",
       "<table border=\"1\" class=\"dataframe\">\n",
       "  <thead>\n",
       "    <tr style=\"text-align: right;\">\n",
       "      <th></th>\n",
       "      <th>trip_id</th>\n",
       "      <th>dist_calc</th>\n",
       "      <th>od_line_dist</th>\n",
       "      <th>matching_error</th>\n",
       "      <th>propulsion_type</th>\n",
       "      <th>matched_start</th>\n",
       "      <th>matched_end</th>\n",
       "      <th>lon_o</th>\n",
       "      <th>lat_o</th>\n",
       "      <th>lon_d</th>\n",
       "      <th>lat_d</th>\n",
       "    </tr>\n",
       "  </thead>\n",
       "  <tbody>\n",
       "    <tr>\n",
       "      <th>163</th>\n",
       "      <td>61a0aed6-fc45-4f5d-b767-317765adb109</td>\n",
       "      <td>1019</td>\n",
       "      <td>879</td>\n",
       "      <td>6.98</td>\n",
       "      <td>['human', 'electric_assist']</td>\n",
       "      <td>POINT(-71.206568 42.3339009999999)</td>\n",
       "      <td>POINT(-71.205802 42.3417879999999)</td>\n",
       "      <td>-71.206568</td>\n",
       "      <td>42.3339009999999</td>\n",
       "      <td>-71.205802</td>\n",
       "      <td>42.3417879999999</td>\n",
       "    </tr>\n",
       "    <tr>\n",
       "      <th>482</th>\n",
       "      <td>2d1dbdc0-ee19-4a3d-b045-4bfbf5abec34</td>\n",
       "      <td>812</td>\n",
       "      <td>533</td>\n",
       "      <td>11.46</td>\n",
       "      <td>['human', 'electric_assist']</td>\n",
       "      <td>POINT(-71.190986 42.3728499999999)</td>\n",
       "      <td>POINT(-71.191851 42.3772389999999)</td>\n",
       "      <td>-71.190986</td>\n",
       "      <td>42.3728499999999</td>\n",
       "      <td>-71.191851</td>\n",
       "      <td>42.3772389999999</td>\n",
       "    </tr>\n",
       "    <tr>\n",
       "      <th>531</th>\n",
       "      <td>12fd115c-7ba2-4ee9-b024-9c9d1b3f0bab</td>\n",
       "      <td>478</td>\n",
       "      <td>477</td>\n",
       "      <td>4.46</td>\n",
       "      <td>['human', 'electric_assist']</td>\n",
       "      <td>POINT(-71.044208 42.4306549999999)</td>\n",
       "      <td>POINT(-71.049989 42.4302609999999)</td>\n",
       "      <td>-71.044208</td>\n",
       "      <td>42.4306549999999</td>\n",
       "      <td>-71.049989</td>\n",
       "      <td>42.4302609999999</td>\n",
       "    </tr>\n",
       "    <tr>\n",
       "      <th>571</th>\n",
       "      <td>7dc12fcd-a9ce-4868-b77e-9a04104f0103</td>\n",
       "      <td>421</td>\n",
       "      <td>355</td>\n",
       "      <td>0.49</td>\n",
       "      <td>['human', 'electric_assist']</td>\n",
       "      <td>POINT(-71.004841 42.4063799999999)</td>\n",
       "      <td>POINT(-71.002436 42.4090109999999)</td>\n",
       "      <td>-71.004841</td>\n",
       "      <td>42.4063799999999</td>\n",
       "      <td>-71.002436</td>\n",
       "      <td>42.4090109999999</td>\n",
       "    </tr>\n",
       "    <tr>\n",
       "      <th>572</th>\n",
       "      <td>3f76c7a7-5f3a-4228-b717-d68f7ab790cf</td>\n",
       "      <td>549</td>\n",
       "      <td>414</td>\n",
       "      <td>9.05</td>\n",
       "      <td>['human', 'electric_assist']</td>\n",
       "      <td>POINT(-71.199194 42.3505069999999)</td>\n",
       "      <td>POINT(-71.202873 42.3480399999999)</td>\n",
       "      <td>-71.199194</td>\n",
       "      <td>42.3505069999999</td>\n",
       "      <td>-71.202873</td>\n",
       "      <td>42.3480399999999</td>\n",
       "    </tr>\n",
       "    <tr>\n",
       "      <th>...</th>\n",
       "      <td>...</td>\n",
       "      <td>...</td>\n",
       "      <td>...</td>\n",
       "      <td>...</td>\n",
       "      <td>...</td>\n",
       "      <td>...</td>\n",
       "      <td>...</td>\n",
       "      <td>...</td>\n",
       "      <td>...</td>\n",
       "      <td>...</td>\n",
       "      <td>...</td>\n",
       "    </tr>\n",
       "    <tr>\n",
       "      <th>9687</th>\n",
       "      <td>8157ef02-1e9c-4ee6-b04c-f184bea860c2</td>\n",
       "      <td>643</td>\n",
       "      <td>509</td>\n",
       "      <td>3.94</td>\n",
       "      <td>['human', 'electric_assist']</td>\n",
       "      <td>POINT(-71.044036 42.4603649999999)</td>\n",
       "      <td>POINT(-71.048302 42.4636679999999)</td>\n",
       "      <td>-71.044036</td>\n",
       "      <td>42.4603649999999</td>\n",
       "      <td>-71.048302</td>\n",
       "      <td>42.4636679999999</td>\n",
       "    </tr>\n",
       "    <tr>\n",
       "      <th>9713</th>\n",
       "      <td>0fb76036-afc3-480e-b027-73408c7487e6</td>\n",
       "      <td>429</td>\n",
       "      <td>365</td>\n",
       "      <td>3.14</td>\n",
       "      <td>['human', 'electric_assist']</td>\n",
       "      <td>POINT(-71.182327 42.3661819999999)</td>\n",
       "      <td>POINT(-71.18527 42.3686199999999)</td>\n",
       "      <td>-71.182327</td>\n",
       "      <td>42.3661819999999</td>\n",
       "      <td>-71.18527</td>\n",
       "      <td>42.3686199999999</td>\n",
       "    </tr>\n",
       "    <tr>\n",
       "      <th>9845</th>\n",
       "      <td>2ae6db8f-3dea-4f9e-b494-d78ac9519def</td>\n",
       "      <td>1084</td>\n",
       "      <td>905</td>\n",
       "      <td>6.41</td>\n",
       "      <td>['human', 'electric_assist']</td>\n",
       "      <td>POINT(-71.021418 42.2697129999999)</td>\n",
       "      <td>POINT(-71.028883 42.2753309999999)</td>\n",
       "      <td>-71.021418</td>\n",
       "      <td>42.2697129999999</td>\n",
       "      <td>-71.028883</td>\n",
       "      <td>42.2753309999999</td>\n",
       "    </tr>\n",
       "    <tr>\n",
       "      <th>9892</th>\n",
       "      <td>769c35a5-0f43-45ca-bc04-26c9223fe5fd</td>\n",
       "      <td>580</td>\n",
       "      <td>401</td>\n",
       "      <td>17.84</td>\n",
       "      <td>['human', 'electric_assist']</td>\n",
       "      <td>POINT(-71.183384 42.3635119999999)</td>\n",
       "      <td>POINT(-71.17924 42.3616489999998)</td>\n",
       "      <td>-71.183384</td>\n",
       "      <td>42.3635119999999</td>\n",
       "      <td>-71.17924</td>\n",
       "      <td>42.3616489999998</td>\n",
       "    </tr>\n",
       "    <tr>\n",
       "      <th>10016</th>\n",
       "      <td>4db175ec-8d5e-4816-be12-ed126103adf3</td>\n",
       "      <td>841</td>\n",
       "      <td>678</td>\n",
       "      <td>20.05</td>\n",
       "      <td>['human', 'electric_assist']</td>\n",
       "      <td>POINT(-71.012476 42.2712989999999)</td>\n",
       "      <td>POINT(-71.011247 42.2772139999999)</td>\n",
       "      <td>-71.012476</td>\n",
       "      <td>42.2712989999999</td>\n",
       "      <td>-71.011247</td>\n",
       "      <td>42.2772139999999</td>\n",
       "    </tr>\n",
       "  </tbody>\n",
       "</table>\n",
       "<p>99 rows × 11 columns</p>\n",
       "</div>"
      ],
      "text/plain": [
       "                                    trip_id  dist_calc  od_line_dist  \\\n",
       "163    61a0aed6-fc45-4f5d-b767-317765adb109       1019           879   \n",
       "482    2d1dbdc0-ee19-4a3d-b045-4bfbf5abec34        812           533   \n",
       "531    12fd115c-7ba2-4ee9-b024-9c9d1b3f0bab        478           477   \n",
       "571    7dc12fcd-a9ce-4868-b77e-9a04104f0103        421           355   \n",
       "572    3f76c7a7-5f3a-4228-b717-d68f7ab790cf        549           414   \n",
       "...                                     ...        ...           ...   \n",
       "9687   8157ef02-1e9c-4ee6-b04c-f184bea860c2        643           509   \n",
       "9713   0fb76036-afc3-480e-b027-73408c7487e6        429           365   \n",
       "9845   2ae6db8f-3dea-4f9e-b494-d78ac9519def       1084           905   \n",
       "9892   769c35a5-0f43-45ca-bc04-26c9223fe5fd        580           401   \n",
       "10016  4db175ec-8d5e-4816-be12-ed126103adf3        841           678   \n",
       "\n",
       "       matching_error               propulsion_type  \\\n",
       "163              6.98  ['human', 'electric_assist']   \n",
       "482             11.46  ['human', 'electric_assist']   \n",
       "531              4.46  ['human', 'electric_assist']   \n",
       "571              0.49  ['human', 'electric_assist']   \n",
       "572              9.05  ['human', 'electric_assist']   \n",
       "...               ...                           ...   \n",
       "9687             3.94  ['human', 'electric_assist']   \n",
       "9713             3.14  ['human', 'electric_assist']   \n",
       "9845             6.41  ['human', 'electric_assist']   \n",
       "9892            17.84  ['human', 'electric_assist']   \n",
       "10016           20.05  ['human', 'electric_assist']   \n",
       "\n",
       "                            matched_start                         matched_end  \\\n",
       "163    POINT(-71.206568 42.3339009999999)  POINT(-71.205802 42.3417879999999)   \n",
       "482    POINT(-71.190986 42.3728499999999)  POINT(-71.191851 42.3772389999999)   \n",
       "531    POINT(-71.044208 42.4306549999999)  POINT(-71.049989 42.4302609999999)   \n",
       "571    POINT(-71.004841 42.4063799999999)  POINT(-71.002436 42.4090109999999)   \n",
       "572    POINT(-71.199194 42.3505069999999)  POINT(-71.202873 42.3480399999999)   \n",
       "...                                   ...                                 ...   \n",
       "9687   POINT(-71.044036 42.4603649999999)  POINT(-71.048302 42.4636679999999)   \n",
       "9713   POINT(-71.182327 42.3661819999999)   POINT(-71.18527 42.3686199999999)   \n",
       "9845   POINT(-71.021418 42.2697129999999)  POINT(-71.028883 42.2753309999999)   \n",
       "9892   POINT(-71.183384 42.3635119999999)   POINT(-71.17924 42.3616489999998)   \n",
       "10016  POINT(-71.012476 42.2712989999999)  POINT(-71.011247 42.2772139999999)   \n",
       "\n",
       "            lon_o             lat_o       lon_d             lat_d  \n",
       "163    -71.206568  42.3339009999999  -71.205802  42.3417879999999  \n",
       "482    -71.190986  42.3728499999999  -71.191851  42.3772389999999  \n",
       "531    -71.044208  42.4306549999999  -71.049989  42.4302609999999  \n",
       "571    -71.004841  42.4063799999999  -71.002436  42.4090109999999  \n",
       "572    -71.199194  42.3505069999999  -71.202873  42.3480399999999  \n",
       "...           ...               ...         ...               ...  \n",
       "9687   -71.044036  42.4603649999999  -71.048302  42.4636679999999  \n",
       "9713   -71.182327  42.3661819999999   -71.18527  42.3686199999999  \n",
       "9845   -71.021418  42.2697129999999  -71.028883  42.2753309999999  \n",
       "9892   -71.183384  42.3635119999999   -71.17924  42.3616489999998  \n",
       "10016  -71.012476  42.2712989999999  -71.011247  42.2772139999999  \n",
       "\n",
       "[99 rows x 11 columns]"
      ]
     },
     "execution_count": 86,
     "metadata": {},
     "output_type": "execute_result"
    }
   ],
   "source": [
    "bikes_trps_f_n"
   ]
  },
  {
   "cell_type": "code",
   "execution_count": 90,
   "metadata": {},
   "outputs": [
    {
     "name": "stdout",
     "output_type": "stream",
     "text": [
      "                                  trip_id  dist_calc  od_line_dist  \\\n",
      "163  61a0aed6-fc45-4f5d-b767-317765adb109       1019           879   \n",
      "482  2d1dbdc0-ee19-4a3d-b045-4bfbf5abec34        812           533   \n",
      "\n",
      "     matching_error               propulsion_type  \\\n",
      "163            6.98  ['human', 'electric_assist']   \n",
      "482           11.46  ['human', 'electric_assist']   \n",
      "\n",
      "                          matched_start                         matched_end  \\\n",
      "163  POINT(-71.206568 42.3339009999999)  POINT(-71.205802 42.3417879999999)   \n",
      "482  POINT(-71.190986 42.3728499999999)  POINT(-71.191851 42.3772389999999)   \n",
      "\n",
      "          lon_o             lat_o       lon_d             lat_d  \\\n",
      "163  -71.206568  42.3339009999999  -71.205802  42.3417879999999   \n",
      "482  -71.190986  42.3728499999999  -71.191851  42.3772389999999   \n",
      "\n",
      "                                         f_coordinates  f_distance  \\\n",
      "163  [[-71.206565, 42.3339], [-71.20651, 42.334034]...    1019.575   \n",
      "482  [[-71.190986, 42.37285], [-71.190935, 42.37283...     736.661   \n",
      "\n",
      "     f_duration  dist_ratio  \n",
      "163      203915    0.999436  \n",
      "482      147333    1.102271  \n",
      "0\n",
      "1\n",
      "done\n"
     ]
    }
   ],
   "source": [
    "processor(bikes_trps_f_n.head(2), 'bikes_trps_f_3_2')"
   ]
  },
  {
   "cell_type": "code",
   "execution_count": null,
   "metadata": {},
   "outputs": [],
   "source": []
  },
  {
   "cell_type": "code",
   "execution_count": 1,
   "metadata": {},
   "outputs": [],
   "source": [
    "DATA_PATH = 'C:\\\\Users\\\\bitas\\\\folders\\\\Research\\\\lime\\\\peter\\\\data\\\\detour\\\\cr_00_140\\\\csv_files\\\\*.csv'"
   ]
  },
  {
   "cell_type": "code",
   "execution_count": 6,
   "metadata": {},
   "outputs": [
    {
     "name": "stdout",
     "output_type": "stream",
     "text": [
      "42636\n"
     ]
    }
   ],
   "source": [
    "\n",
    "df_tot = pandas.DataFrame()\n",
    "\n",
    "for fname in glob.glob(DATA_PATH):\n",
    "    df = pandas.read_csv(fname)\n",
    "    df_tot = df_tot.append(df)\n",
    "    \n",
    "print(len(df_tot))\n"
   ]
  },
  {
   "cell_type": "code",
   "execution_count": 7,
   "metadata": {},
   "outputs": [
    {
     "data": {
      "text/plain": [
       "42636"
      ]
     },
     "execution_count": 7,
     "metadata": {},
     "output_type": "execute_result"
    }
   ],
   "source": [
    "len(df_tot)"
   ]
  },
  {
   "cell_type": "code",
   "execution_count": 12,
   "metadata": {},
   "outputs": [
    {
     "data": {
      "text/plain": [
       "0.985883621237624"
      ]
     },
     "execution_count": 12,
     "metadata": {},
     "output_type": "execute_result"
    }
   ],
   "source": [
    "numpy.percentile(df_tot['dist_ratio'], 0)"
   ]
  },
  {
   "cell_type": "code",
   "execution_count": 13,
   "metadata": {},
   "outputs": [],
   "source": [
    "df_loop = df_tot.loc[(df_tot['od_line_dist']<401) & (df_tot['dist_calc']>3*df_tot['od_line_dist'])]"
   ]
  },
  {
   "cell_type": "code",
   "execution_count": 14,
   "metadata": {},
   "outputs": [
    {
     "data": {
      "text/plain": [
       "6076"
      ]
     },
     "execution_count": 14,
     "metadata": {},
     "output_type": "execute_result"
    }
   ],
   "source": [
    "len(df_loop)"
   ]
  },
  {
   "cell_type": "code",
   "execution_count": 15,
   "metadata": {},
   "outputs": [],
   "source": [
    "df_nonloop = df_tot[~df_tot['trip_id'].isin(df_loop['trip_id'])]"
   ]
  },
  {
   "cell_type": "code",
   "execution_count": 16,
   "metadata": {},
   "outputs": [
    {
     "data": {
      "text/plain": [
       "36560"
      ]
     },
     "execution_count": 16,
     "metadata": {},
     "output_type": "execute_result"
    }
   ],
   "source": [
    "len(df_nonloop)"
   ]
  },
  {
   "cell_type": "code",
   "execution_count": 17,
   "metadata": {},
   "outputs": [
    {
     "data": {
      "text/plain": [
       "36377"
      ]
     },
     "execution_count": 17,
     "metadata": {},
     "output_type": "execute_result"
    }
   ],
   "source": [
    "len(df_nonloop[df_nonloop['dist_calc']>100])"
   ]
  },
  {
   "cell_type": "code",
   "execution_count": 18,
   "metadata": {},
   "outputs": [],
   "source": [
    "df_nonloop = df_nonloop[df_nonloop['dist_calc']>100]"
   ]
  },
  {
   "cell_type": "code",
   "execution_count": 21,
   "metadata": {},
   "outputs": [
    {
     "data": {
      "text/html": [
       "<div>\n",
       "<style scoped>\n",
       "    .dataframe tbody tr th:only-of-type {\n",
       "        vertical-align: middle;\n",
       "    }\n",
       "\n",
       "    .dataframe tbody tr th {\n",
       "        vertical-align: top;\n",
       "    }\n",
       "\n",
       "    .dataframe thead th {\n",
       "        text-align: right;\n",
       "    }\n",
       "</style>\n",
       "<table border=\"1\" class=\"dataframe\">\n",
       "  <thead>\n",
       "    <tr style=\"text-align: right;\">\n",
       "      <th></th>\n",
       "      <th>trip_id</th>\n",
       "      <th>dist_calc</th>\n",
       "      <th>od_line_dist</th>\n",
       "      <th>matching_error</th>\n",
       "      <th>propulsion_type</th>\n",
       "      <th>matched_start</th>\n",
       "      <th>matched_end</th>\n",
       "      <th>lon_o</th>\n",
       "      <th>lat_o</th>\n",
       "      <th>lon_d</th>\n",
       "      <th>lat_d</th>\n",
       "      <th>f_coordinates</th>\n",
       "      <th>f_distance</th>\n",
       "      <th>f_duration</th>\n",
       "      <th>dist_ratio</th>\n",
       "    </tr>\n",
       "  </thead>\n",
       "  <tbody>\n",
       "    <tr>\n",
       "      <th>42</th>\n",
       "      <td>3861065b-8969-44f3-be91-0269e320d5f6</td>\n",
       "      <td>1551</td>\n",
       "      <td>914</td>\n",
       "      <td>0.53</td>\n",
       "      <td>['human']</td>\n",
       "      <td>POINT(-71.077162 42.4106489999999)</td>\n",
       "      <td>POINT(-71.076799 42.4024329999999)</td>\n",
       "      <td>-71.077162</td>\n",
       "      <td>42.410649</td>\n",
       "      <td>-71.076799</td>\n",
       "      <td>42.402433</td>\n",
       "      <td>[[-71.077162, 42.410649], [-71.077157, 42.4098...</td>\n",
       "      <td>1573.208</td>\n",
       "      <td>566354888</td>\n",
       "      <td>0.985884</td>\n",
       "    </tr>\n",
       "  </tbody>\n",
       "</table>\n",
       "</div>"
      ],
      "text/plain": [
       "                                 trip_id  dist_calc  od_line_dist  \\\n",
       "42  3861065b-8969-44f3-be91-0269e320d5f6       1551           914   \n",
       "\n",
       "    matching_error propulsion_type                       matched_start  \\\n",
       "42            0.53       ['human']  POINT(-71.077162 42.4106489999999)   \n",
       "\n",
       "                           matched_end      lon_o      lat_o      lon_d  \\\n",
       "42  POINT(-71.076799 42.4024329999999) -71.077162  42.410649 -71.076799   \n",
       "\n",
       "        lat_d                                      f_coordinates  f_distance  \\\n",
       "42  42.402433  [[-71.077162, 42.410649], [-71.077157, 42.4098...    1573.208   \n",
       "\n",
       "    f_duration  dist_ratio  \n",
       "42   566354888    0.985884  "
      ]
     },
     "execution_count": 21,
     "metadata": {},
     "output_type": "execute_result"
    }
   ],
   "source": [
    "df_nonloop[df_nonloop['dist_ratio']<0.99]"
   ]
  },
  {
   "cell_type": "code",
   "execution_count": 19,
   "metadata": {},
   "outputs": [
    {
     "data": {
      "text/plain": [
       "0.985883621237624"
      ]
     },
     "execution_count": 19,
     "metadata": {},
     "output_type": "execute_result"
    }
   ],
   "source": [
    "numpy.percentile(df_nonloop['dist_ratio'], 0)"
   ]
  },
  {
   "cell_type": "code",
   "execution_count": 87,
   "metadata": {},
   "outputs": [],
   "source": [
    "df_nonloop.to_csv('C:\\\\Users\\\\bitas\\\\folders\\\\Research\\\\lime\\\\peter\\\\data\\\\detour\\\\cr_321_384_nonloop.csv')"
   ]
  },
  {
   "cell_type": "code",
   "execution_count": 42,
   "metadata": {},
   "outputs": [
    {
     "data": {
      "text/plain": [
       "5     748b400a-cb24-4511-bc7d-8f18517c66d8\n",
       "20    2fa5d675-ebfe-45ab-bc94-b94c89796d78\n",
       "8     34b7c7b4-612f-405c-bb5c-62a15b8a6238\n",
       "32    86c7e82c-854c-4743-b71b-360fb8064663\n",
       "49    35ba22f6-57dc-440a-b72d-91cd8f316d79\n",
       "                      ...                 \n",
       "31    503230b2-7f1b-45e7-bb46-d04d92f8f7cd\n",
       "10    43e7b5c2-28d6-438d-ba3d-571c0c8ed33f\n",
       "20    5b1550a6-b0e8-4c05-bcd8-eaf8c76a6de8\n",
       "20    89debf61-faf8-4ad1-bce1-15d6b4396402\n",
       "24    462fe722-4f7e-420a-b0b5-56be9b64e978\n",
       "Name: trip_id, Length: 533, dtype: object"
      ]
     },
     "execution_count": 42,
     "metadata": {},
     "output_type": "execute_result"
    }
   ],
   "source": [
    "df_nonloop.loc[(df_nonloop['dist_ratio']>1.29) & (df_nonloop['dist_ratio']<1.41)]['trip_id']"
   ]
  },
  {
   "cell_type": "code",
   "execution_count": null,
   "metadata": {},
   "outputs": [],
   "source": []
  }
 ],
 "metadata": {
  "kernelspec": {
   "display_name": "Python 3",
   "language": "python",
   "name": "python3"
  },
  "language_info": {
   "codemirror_mode": {
    "name": "ipython",
    "version": 3
   },
   "file_extension": ".py",
   "mimetype": "text/x-python",
   "name": "python",
   "nbconvert_exporter": "python",
   "pygments_lexer": "ipython3",
   "version": "3.7.7"
  }
 },
 "nbformat": 4,
 "nbformat_minor": 4
}
